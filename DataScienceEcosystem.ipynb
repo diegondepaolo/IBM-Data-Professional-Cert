{
 "cells": [
  {
   "cell_type": "markdown",
   "id": "62ae64bc-ebf6-4adc-bfe3-ff4a80aa3232",
   "metadata": {},
   "source": [
    "# Data Science Tools and Ecosystem"
   ]
  },
  {
   "cell_type": "markdown",
   "id": "ca106042-537d-44d5-a3d1-73bb4b813020",
   "metadata": {},
   "source": [
    "In this notebook, Data Science Tools and Ecosystems are summarized."
   ]
  },
  {
   "cell_type": "markdown",
   "id": "d810dea1-2c46-44d5-846c-d7465d999f0f",
   "metadata": {},
   "source": [
    "**Objectives:**\n",
    "- List popular Data Science Languages and Libraries.\n",
    "- List popular Data Science Tools.\n",
    "- Show examples of simple Functions."
   ]
  },
  {
   "cell_type": "markdown",
   "id": "b9c6e63c-3d27-4fe5-b2eb-39b598cc22ea",
   "metadata": {},
   "source": [
    "Some of the popular languages that Data Scientists use are:\n",
    "1. Python\n",
    "2. R\n",
    "3. SQL\n",
    "4. Scala\n",
    "5. Julia\n",
    "6. Java\n",
    "7. C/C++"
   ]
  },
  {
   "cell_type": "markdown",
   "id": "5d4f5896-5fb0-4882-a08c-f8d8c772d2a4",
   "metadata": {},
   "source": [
    "Some of the commomly used libraries used by Data Scientists include:\n",
    "1. Matplotlib\n",
    "2. Seaborn\n",
    "3. Pytorch\n",
    "4. TensorFlow\n",
    "5. Scikit-learn\n",
    "6. Keras\n",
    "7. NumPy\n"
   ]
  },
  {
   "cell_type": "markdown",
   "id": "abd75062-73ff-4bce-a4a8-683f17df680a",
   "metadata": {},
   "source": [
    "|Data Science Tools|\n",
    "|------------------|\n",
    "|Tableau|\n",
    "|Excel|\n",
    "|Apache Spark|\n",
    "|Jupyter Notebook|\n",
    "|Apache Hadoop|"
   ]
  },
  {
   "cell_type": "markdown",
   "id": "ec6f74bf-5ddd-408c-8f02-f3a425a8a6f6",
   "metadata": {},
   "source": [
    "### Below are a few examples of evaluating arithmetic expressions in Python."
   ]
  },
  {
   "cell_type": "code",
   "execution_count": 1,
   "id": "0522a7e9-f568-4d29-af61-abc31eb7f531",
   "metadata": {},
   "outputs": [
    {
     "data": {
      "text/plain": [
       "17"
      ]
     },
     "execution_count": 1,
     "metadata": {},
     "output_type": "execute_result"
    }
   ],
   "source": [
    "(3*4)+5 #this is a simple expression to multiply then add intergers."
   ]
  },
  {
   "cell_type": "code",
   "execution_count": 2,
   "id": "dd77a7f6-8fce-45ec-954e-8b366c272237",
   "metadata": {},
   "outputs": [
    {
     "name": "stdout",
     "output_type": "stream",
     "text": [
      "3.3333333333333335\n"
     ]
    }
   ],
   "source": [
    "#This will convert 200 minutes to hours by dividing by 60\n",
    "minutes = 200\n",
    "hours = minutes / 60\n",
    "print(hours)\n"
   ]
  },
  {
   "cell_type": "markdown",
   "id": "54e4a771-8b2e-4193-98d6-40c29a8a4183",
   "metadata": {},
   "source": [
    "## Author\n",
    "Diego De Paolo"
   ]
  },
  {
   "cell_type": "code",
   "execution_count": null,
   "id": "a2169431-a9c3-43cd-a651-17b1a97442a8",
   "metadata": {},
   "outputs": [],
   "source": []
  }
 ],
 "metadata": {
  "kernelspec": {
   "display_name": "Python 3 (ipykernel)",
   "language": "python",
   "name": "python3"
  },
  "language_info": {
   "codemirror_mode": {
    "name": "ipython",
    "version": 3
   },
   "file_extension": ".py",
   "mimetype": "text/x-python",
   "name": "python",
   "nbconvert_exporter": "python",
   "pygments_lexer": "ipython3",
   "version": "3.12.2"
  }
 },
 "nbformat": 4,
 "nbformat_minor": 5
}
